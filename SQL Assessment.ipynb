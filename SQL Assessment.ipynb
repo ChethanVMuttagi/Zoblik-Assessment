{
 "cells": [
  {
   "cell_type": "code",
   "execution_count": 101,
   "id": "d1c74f59",
   "metadata": {},
   "outputs": [],
   "source": [
    "import sqlite3\n",
    "import csv"
   ]
  },
  {
   "cell_type": "code",
   "execution_count": 91,
   "id": "945a89b4",
   "metadata": {},
   "outputs": [],
   "source": [
    "#Let's connect to SQLITE3 db "
   ]
  },
  {
   "cell_type": "code",
   "execution_count": 102,
   "id": "92231ccf",
   "metadata": {},
   "outputs": [],
   "source": [
    "conn=sqlite3.connect('Data Engineer_ETL Assignment.db')\n",
    "\n"
   ]
  },
  {
   "cell_type": "code",
   "execution_count": 103,
   "id": "436fc159",
   "metadata": {},
   "outputs": [],
   "source": [
    "cursor=conn.cursor()"
   ]
  },
  {
   "cell_type": "code",
   "execution_count": 104,
   "id": "bde8b318",
   "metadata": {},
   "outputs": [],
   "source": [
    "sql_query=\"\"\"\n",
    "SELECT c.customer_id, c.age, i.item_name,COALESCE(SUM(o.quantity),0) AS total_quantity\n",
    "FROM customers c\n",
    "LEFT Join sales s ON c.customer_id = s.customer_id\n",
    "LEFT Join orders o ON s.sales_id = o.sales_id\n",
    "LEFT Join items i ON o.item_id = i.item_id\n",
    "WHERE c.age BETWEEN 18 and 35\n",
    "GROUP BY c.customer_id, i.item_name\n",
    "HAVING total_quantity > 0\n",
    "\"\"\"\n",
    "cursor.execute(sql_query)\n",
    "\n",
    "results = cursor.fetchall()\n",
    "\n",
    "##for table in results:\n",
    " ##   print(table[0])\n",
    "    \n",
    "with open('output_sql.csv', 'w', newline='') as csvfile:\n",
    "    csv_writer = csv.writer(csvfile, delimiter=';')\n",
    "    csv_writer.writerow(['CutomerID','Age,''ItemName','ToatalQantity'])\n",
    "    csv_writer.writerows(results)\n",
    "    \n",
    "conn.close()\n",
    "\n"
   ]
  },
  {
   "cell_type": "code",
   "execution_count": 100,
   "id": "80d3a944",
   "metadata": {},
   "outputs": [],
   "source": []
  },
  {
   "cell_type": "code",
   "execution_count": null,
   "id": "2e2fba33",
   "metadata": {},
   "outputs": [],
   "source": []
  }
 ],
 "metadata": {
  "kernelspec": {
   "display_name": "Python 3 (ipykernel)",
   "language": "python",
   "name": "python3"
  },
  "language_info": {
   "codemirror_mode": {
    "name": "ipython",
    "version": 3
   },
   "file_extension": ".py",
   "mimetype": "text/x-python",
   "name": "python",
   "nbconvert_exporter": "python",
   "pygments_lexer": "ipython3",
   "version": "3.11.5"
  }
 },
 "nbformat": 4,
 "nbformat_minor": 5
}
