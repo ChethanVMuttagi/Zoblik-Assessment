{
 "cells": [
  {
   "cell_type": "code",
   "execution_count": 67,
   "id": "d1c74f59",
   "metadata": {},
   "outputs": [],
   "source": [
    "import sqlite3\n",
    "import pandas as pd\n",
    "import csv"
   ]
  },
  {
   "cell_type": "code",
   "execution_count": 59,
   "id": "945a89b4",
   "metadata": {},
   "outputs": [],
   "source": [
    "#Let's connect to SQLITE3 db "
   ]
  },
  {
   "cell_type": "code",
   "execution_count": 80,
   "id": "92231ccf",
   "metadata": {},
   "outputs": [],
   "source": [
    "conn=sqlite3.connect('Data Engineer_ETL Assignment.db')\n",
    "\n"
   ]
  },
  {
   "cell_type": "code",
   "execution_count": 61,
   "id": "4d6fdd10",
   "metadata": {},
   "outputs": [],
   "source": [
    "sql_query1 = \"SELECT name FROM sqlite_master WHERE type='table';\""
   ]
  },
  {
   "cell_type": "code",
   "execution_count": 62,
   "id": "3becb1ce",
   "metadata": {},
   "outputs": [],
   "source": [
    "table_list = pd.read_sql_query(sql_query1,conn)"
   ]
  },
  {
   "cell_type": "code",
   "execution_count": 63,
   "id": "9f06401d",
   "metadata": {},
   "outputs": [
    {
     "name": "stdout",
     "output_type": "stream",
     "text": [
      "              name\n",
      "0  sqlite_sequence\n",
      "1            sales\n",
      "2           orders\n",
      "3            items\n",
      "4        customers\n"
     ]
    }
   ],
   "source": [
    "print(table_list)"
   ]
  },
  {
   "cell_type": "code",
   "execution_count": 64,
   "id": "c0a45010",
   "metadata": {
    "scrolled": true
   },
   "outputs": [
    {
     "name": "stdout",
     "output_type": "stream",
     "text": [
      "Table:sqlite_sequence\n",
      "['name', 'seq']\n",
      "\n",
      "Table:sales\n",
      "['sales_id', 'customer_id']\n",
      "\n",
      "Table:orders\n",
      "['order_id', 'sales_id', 'item_id', 'quantity']\n",
      "\n",
      "Table:items\n",
      "['item_id', 'item_name']\n",
      "\n",
      "Table:customers\n",
      "['customer_id', 'age']\n",
      "\n"
     ]
    }
   ],
   "source": [
    "for table_name in table_list['name']:\n",
    "    schema_query=f\"PRAGMA table_info('{table_name}');\"\n",
    "    schema_df=pd.read_sql_query(schema_query, conn)\n",
    "    print(f\"Table:{table_name}\")\n",
    "    print(schema_df['name'].tolist())\n",
    "    print()\n",
    "    \n",
    "\n"
   ]
  },
  {
   "cell_type": "code",
   "execution_count": 81,
   "id": "436fc159",
   "metadata": {},
   "outputs": [],
   "source": [
    "cursor=conn.cursor()"
   ]
  },
  {
   "cell_type": "code",
   "execution_count": 82,
   "id": "bde8b318",
   "metadata": {},
   "outputs": [],
   "source": [
    "sql_query=\"\"\"\n",
    "SELECT c.customer_id, c.age, i.item_name,COALESCE(SUM(o.quantity),0) AS total_quantity\n",
    "FROM customers c\n",
    "LEFT Join sales s ON c.customer_id = s.customer_id\n",
    "LEFT Join orders o ON s.sales_id = o.sales_id\n",
    "LEFT Join items i ON o.item_id = i.item_id\n",
    "WHERE c.age BETWEEN 18 and 35\n",
    "GROUP BY c.customer_id, i.item_name\n",
    "HAVING total_quantity > 0\n",
    "\"\"\"\n",
    "cursor.execute(sql_query)\n",
    "\n",
    "results = cursor.fetchall()\n",
    "\n",
    "##for table in results:\n",
    " ##   print(table[0])\n",
    "\n",
    "df=pd.read_sql_query(sql_query,conn)\n",
    "\n",
    "df.to_csv('Output_SQL.csv', sep=';', index=False)\n",
    "    \n",
    "conn.close()\n",
    "\n"
   ]
  },
  {
   "cell_type": "code",
   "execution_count": null,
   "id": "80d3a944",
   "metadata": {},
   "outputs": [],
   "source": []
  },
  {
   "cell_type": "code",
   "execution_count": null,
   "id": "2e2fba33",
   "metadata": {},
   "outputs": [],
   "source": []
  }
 ],
 "metadata": {
  "kernelspec": {
   "display_name": "Python 3 (ipykernel)",
   "language": "python",
   "name": "python3"
  },
  "language_info": {
   "codemirror_mode": {
    "name": "ipython",
    "version": 3
   },
   "file_extension": ".py",
   "mimetype": "text/x-python",
   "name": "python",
   "nbconvert_exporter": "python",
   "pygments_lexer": "ipython3",
   "version": "3.11.5"
  }
 },
 "nbformat": 4,
 "nbformat_minor": 5
}
