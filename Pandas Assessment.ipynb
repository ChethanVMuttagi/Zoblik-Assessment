{
 "cells": [
  {
   "cell_type": "code",
   "execution_count": 5,
   "id": "a5edea0d",
   "metadata": {},
   "outputs": [],
   "source": [
    "import sqlite3\n",
    "import pandas as pd\n",
    "import csv\n"
   ]
  },
  {
   "cell_type": "code",
   "execution_count": 8,
   "id": "9f7277b7",
   "metadata": {},
   "outputs": [],
   "source": [
    "conn=sqlite3.connect('Data Engineer_ETL Assignment.db')\n",
    "cursor=conn.cursor()"
   ]
  },
  {
   "cell_type": "code",
   "execution_count": 12,
   "id": "4d28d95c",
   "metadata": {},
   "outputs": [
    {
     "data": {
      "text/html": [
       "<div>\n",
       "<style scoped>\n",
       "    .dataframe tbody tr th:only-of-type {\n",
       "        vertical-align: middle;\n",
       "    }\n",
       "\n",
       "    .dataframe tbody tr th {\n",
       "        vertical-align: top;\n",
       "    }\n",
       "\n",
       "    .dataframe thead th {\n",
       "        text-align: right;\n",
       "    }\n",
       "</style>\n",
       "<table border=\"1\" class=\"dataframe\">\n",
       "  <thead>\n",
       "    <tr style=\"text-align: right;\">\n",
       "      <th></th>\n",
       "      <th>customer_id</th>\n",
       "      <th>age</th>\n",
       "      <th>item_name</th>\n",
       "      <th>total_quantity</th>\n",
       "    </tr>\n",
       "  </thead>\n",
       "  <tbody>\n",
       "    <tr>\n",
       "      <th>0</th>\n",
       "      <td>5</td>\n",
       "      <td>18</td>\n",
       "      <td>x</td>\n",
       "      <td>3</td>\n",
       "    </tr>\n",
       "    <tr>\n",
       "      <th>1</th>\n",
       "      <td>5</td>\n",
       "      <td>18</td>\n",
       "      <td>y</td>\n",
       "      <td>3</td>\n",
       "    </tr>\n",
       "    <tr>\n",
       "      <th>2</th>\n",
       "      <td>5</td>\n",
       "      <td>18</td>\n",
       "      <td>z</td>\n",
       "      <td>4</td>\n",
       "    </tr>\n",
       "    <tr>\n",
       "      <th>3</th>\n",
       "      <td>7</td>\n",
       "      <td>30</td>\n",
       "      <td>x</td>\n",
       "      <td>14</td>\n",
       "    </tr>\n",
       "    <tr>\n",
       "      <th>4</th>\n",
       "      <td>7</td>\n",
       "      <td>30</td>\n",
       "      <td>y</td>\n",
       "      <td>19</td>\n",
       "    </tr>\n",
       "  </tbody>\n",
       "</table>\n",
       "</div>"
      ],
      "text/plain": [
       "   customer_id  age item_name  total_quantity\n",
       "0            5   18         x               3\n",
       "1            5   18         y               3\n",
       "2            5   18         z               4\n",
       "3            7   30         x              14\n",
       "4            7   30         y              19"
      ]
     },
     "execution_count": 12,
     "metadata": {},
     "output_type": "execute_result"
    }
   ],
   "source": [
    "sql_query=\"\"\"\n",
    "SELECT c.customer_id, c.age, i.item_name,COALESCE(SUM(o.quantity),0) AS total_quantity\n",
    "FROM customers c\n",
    "LEFT Join sales s ON c.customer_id = s.customer_id\n",
    "LEFT Join orders o ON s.sales_id = o.sales_id\n",
    "LEFT Join items i ON o.item_id = i.item_id\n",
    "WHERE c.age BETWEEN 18 and 35\n",
    "GROUP BY c.customer_id, i.item_name\n",
    "HAVING total_quantity > 0\n",
    "\"\"\"\n",
    "df=pd.read_sql_query(sql_query, conn)\n",
    "\n",
    "df.head()\n",
    "\n"
   ]
  },
  {
   "cell_type": "code",
   "execution_count": 13,
   "id": "bfceb37c",
   "metadata": {},
   "outputs": [
    {
     "name": "stdout",
     "output_type": "stream",
     "text": [
      "    customer_id item_name  age  total_quantity\n",
      "0             5         x   18               3\n",
      "1             5         y   18               3\n",
      "2             5         z   18               4\n",
      "3             7         x   30              14\n",
      "4             7         y   30              19\n",
      "..          ...       ...  ...             ...\n",
      "65           97         y   23               2\n",
      "66           97         z   23               3\n",
      "67          100         x   30               1\n",
      "68          100         y   30               1\n",
      "69          100         z   30               5\n",
      "\n",
      "[70 rows x 4 columns]\n"
     ]
    }
   ],
   "source": [
    "\n",
    "df_grouped = df.groupby(['customer_id','item_name']).sum().reset_index() \n",
    "\n",
    "df_filtered = df_grouped[df_grouped['total_quantity'] > 0]\n",
    "\n",
    "df_filtered['total_quantity'] = df_filtered['total_quantity'].astype(int)\n",
    "\n",
    "df_filtered.to_csv('Output_pandas.csv',sep=';', index=False)\n",
    "\n",
    "print(df_filtered)\n"
   ]
  },
  {
   "cell_type": "code",
   "execution_count": null,
   "id": "c20e3286",
   "metadata": {},
   "outputs": [],
   "source": []
  }
 ],
 "metadata": {
  "kernelspec": {
   "display_name": "Python 3 (ipykernel)",
   "language": "python",
   "name": "python3"
  },
  "language_info": {
   "codemirror_mode": {
    "name": "ipython",
    "version": 3
   },
   "file_extension": ".py",
   "mimetype": "text/x-python",
   "name": "python",
   "nbconvert_exporter": "python",
   "pygments_lexer": "ipython3",
   "version": "3.11.5"
  }
 },
 "nbformat": 4,
 "nbformat_minor": 5
}
